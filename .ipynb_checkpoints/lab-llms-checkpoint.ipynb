{
 "cells": [
  {
   "cell_type": "markdown",
   "metadata": {
    "id": "9sGjEWSy1FrY"
   },
   "source": [
    "# Large Language Models Lab\n"
   ]
  },
  {
   "cell_type": "markdown",
   "metadata": {
    "id": "nGJkS1ctKNvq"
   },
   "source": [
    "**NOTE:** You're only meant to change code marked with \"# TODO:\""
   ]
  },
  {
   "cell_type": "markdown",
   "metadata": {
    "id": "fEKMx87cR105"
   },
   "source": [
    "## Table of Contents\n",
    "\n",
    "1. **Setting Up**\n",
    "    - API Key Configuration\n",
    "    - Connecting to OpenAI API\n",
    "2. **Exploring the API**\n",
    "    - Creating Chat Completions\n",
    "    - Understanding Completion Parameters\n",
    "3. **Prompt Engineering**\n",
    "    - Crafting Effective Prompts\n",
    "    - Strategies and Best Practices\n",
    "4. **Advanced Techniques**\n",
    "    - Utilizing Embeddings\n",
    "    - Function Calling in LLMs\n",
    "5. **Extras**\n",
    "    - Creating an API key\n",
    "    - Local Development with LLMs\n",
    "    - Context Windows\n",
    "    - Fine-Tuning LLMs"
   ]
  },
  {
   "cell_type": "markdown",
   "metadata": {
    "id": "pSiOx5S_DYlf"
   },
   "source": [
    "## Part 0: Setup\n",
    "To be able to use OpenAI one needs to configure an API key to the be allowed responses to requests. Remember not to commit this key to any repository or upload it as OpenAI will disable the key if it is found, and others can use it to make requests that you or your organisation (Cogito) will pay for."
   ]
  },
  {
   "cell_type": "code",
   "execution_count": 2,
   "metadata": {
    "id": "LlRpazpLEtP2",
    "tags": []
   },
   "outputs": [],
   "source": [
    "# %pip install openai\n",
    "# %pip install numpy\n",
    "# %pip install python-dotenv"
   ]
  },
  {
   "cell_type": "code",
   "execution_count": 3,
   "metadata": {
    "id": "Laq8ql09DtyE",
    "tags": []
   },
   "outputs": [
    {
     "name": "stdout",
     "output_type": "stream",
     "text": [
      "[SUCCESS] API Key is configured correctly.\n"
     ]
    }
   ],
   "source": [
    "import os\n",
    "from dotenv import load_dotenv\n",
    "\n",
    "load_dotenv()\n",
    "\n",
    "# Once you add your API key below, make sure to not share it with anyone! The API key should remain private.\n",
    "OPENAI_API_KEY: str = os.getenv(\"OPENAI_API_KEY\")\n",
    "\n",
    "# There are many different models to try out \"gpt-4\", \"gpt-4-turbo-preview\", \"gpt-3.5-turbo\"\n",
    "MODEL_NAME: str = \"gpt-3.5-turbo\"\n",
    "\n",
    "if not OPENAI_API_KEY:\n",
    "  print(\"[ERROR] The key is not configured correctly\")\n",
    "else:\n",
    "  print(\"[SUCCESS] API Key is configured correctly.\")"
   ]
  },
  {
   "cell_type": "code",
   "execution_count": 4,
   "metadata": {
    "id": "AJ7gr0Q81D-a",
    "tags": []
   },
   "outputs": [],
   "source": [
    "from openai import OpenAI\n",
    "import openai\n",
    "client = OpenAI(\n",
    "  api_key=OPENAI_API_KEY,\n",
    ")"
   ]
  },
  {
   "cell_type": "markdown",
   "metadata": {
    "id": "PrJPFSSqDWgw"
   },
   "source": [
    "## Part 1: API Connections"
   ]
  },
  {
   "cell_type": "code",
   "execution_count": 5,
   "metadata": {
    "id": "Mj506eumJEMT",
    "tags": []
   },
   "outputs": [
    {
     "name": "stdout",
     "output_type": "stream",
     "text": [
      "The Answer for the language model \n",
      "ChatCompletion(id='chatcmpl-9dP18vfEFO9qrF45Di6rz8FWNPje2', choices=[Choice(finish_reason='stop', index=0, logprobs=None, message=ChatCompletionMessage(content=\"There once was a model so large,  \\nIt could speak with poetic charge,  \\nWith data it's fed,  \\nIt's AI brain well-fed,  \\nLarge Language Models, in AI we trust, they take the lead by and large!\", role='assistant', function_call=None, tool_calls=None))], created=1719177986, model='gpt-3.5-turbo-0125', object='chat.completion', service_tier=None, system_fingerprint=None, usage=CompletionUsage(completion_tokens=49, prompt_tokens=36, total_tokens=85))\n",
      "\n",
      "The answer of the model: \n",
      "There once was a model so large,  \n",
      "It could speak with poetic charge,  \n",
      "With data it's fed,  \n",
      "It's AI brain well-fed,  \n",
      "Large Language Models, in AI we trust, they take the lead by and large!\n"
     ]
    }
   ],
   "source": [
    "completion = client.chat.completions.create(#Fill in your own content\n",
    "  model=MODEL_NAME,\n",
    "  messages=[\n",
    "    {\"role\": \"system\", \"content\": \"You are a poetic assistant, skilled in explaining complex AI concepts with creative flair.\"},\n",
    "    {\"role\": \"user\", \"content\": \"Create a limerick about Large Language Models\"}\n",
    "  ]\n",
    ")\n",
    "print(\"The Answer for the language model \")\n",
    "print(completion)\n",
    "print(\"\\nThe answer of the model: \")\n",
    "print(completion.choices[0].message.content)"
   ]
  },
  {
   "cell_type": "markdown",
   "metadata": {
    "id": "nnVvFY5KTBzL"
   },
   "source": [
    "## Part 2: Understanding Completion Parameters (15 min)\n"
   ]
  },
  {
   "cell_type": "markdown",
   "metadata": {
    "id": "TXb8iu43y2Bu"
   },
   "source": [
    "### Key Parameters:\n",
    "* **Model Name:** Specifies the particular model version you want to use (e.g., text-davinci-003). Different models have varying capabilities, sizes, and costs.\n",
    "\n",
    "* **Messages:** The list of input text that you provide to the model. This is where the art of prompt engineering comes into play, guiding the model to generate the desired output.\n",
    "\n",
    "* **Temperature:** Controls the randomness of the output. A higher temperature leads to more varied responses, while a lower temperature results in more deterministic outputs. It's typically set between 0 and 2.\n",
    "\n",
    "* **Max Tokens:** Determines the maximum length of the model's response, measured in tokens (words or pieces of words). This helps control output verbosity.\n",
    "\n",
    "* **Top P:** Influences sample diversity by only considering the top P percent of probability mass when generating responses. Adjusting this can affect the creativity and relevance of the output.\n",
    "\n",
    "* **Frequency Penalty:** Discourages repetition by penalizing words based on their frequency in the text so far. This can help generate more diverse and interesting responses.\n",
    "\n",
    "* **Presence Penalty:** Similar to frequency penalty but penalizes based on the presence of words, encouraging the model to introduce new concepts and terms.\n"
   ]
  },
  {
   "cell_type": "markdown",
   "metadata": {
    "id": "wb3V46jsfYZW"
   },
   "source": [
    "\n",
    "### **Task 2.1** Experimenting with Parameters\n",
    "Now that you're familiar with the parameters that can influence the behavior of LLMs, let's put this knowledge to the test. Your task is to experiment with these parameters to see firsthand how they affect the model's outputs.\n",
    "\n",
    "**Choose a Prompt:** *Start with a simple prompt, such as asking the model to write a short story about a space adventure.*\n",
    "\n",
    "\n"
   ]
  },
  {
   "cell_type": "code",
   "execution_count": 6,
   "metadata": {
    "id": "3_U5DyXgkrUr"
   },
   "outputs": [],
   "source": [
    "# TODO: Fill in your own prompt\n",
    "prompt: str = \"Write a paragraph about a space adventure\""
   ]
  },
  {
   "cell_type": "markdown",
   "metadata": {
    "id": "F1DQV5OFkq7h"
   },
   "source": [
    "### **Task 2.2**\n",
    "*Vary the Temperature: Generate three completions using temperatures of 0.0, 1.0, and 2.0. Observe how the creativity and variability of the responses change.*"
   ]
  },
  {
   "cell_type": "code",
   "execution_count": 9,
   "metadata": {
    "id": "I1EY_E3ofc7U"
   },
   "outputs": [
    {
     "name": "stdout",
     "output_type": "stream",
     "text": [
      "The Model responded with: 'Embarking on a space adventure was a dream come true for the crew of the starship Horizon. As they soared through the galaxy, they encountered dazzling nebulas, mysterious black holes, and breathtaking planets teeming with alien life. Each member of the crew had their own role to play, from the daring pilot to the brilliant scientist to the fearless medic. Together, they navigated through asteroid fields and evaded hostile alien ships, facing danger at every turn. But amidst the chaos and excitement, they also experienced moments of awe and wonder, witnessing the beauty and vastness of the universe like never before. Their journey was not without challenges, but the bond forged between them as they explored the unknown depths of space made it all worth it.'\n"
     ]
    }
   ],
   "source": [
    "# TODO: Change the temperature[0-2]. What did you observe?\n",
    "TEMPERATURE: float = 1.0\n",
    "\n",
    "completion = client.chat.completions.create(\n",
    "  model=MODEL_NAME,\n",
    "  temperature=TEMPERATURE,\n",
    "  messages=[\n",
    "    {\"role\": \"user\", \"content\": prompt}\n",
    "  ]\n",
    ")\n",
    "output = completion.choices[0].message.content\n",
    "print(f\"The Model responded with: '{output}'\")"
   ]
  },
  {
   "cell_type": "markdown",
   "metadata": {
    "id": "TfXf7CeYi27x"
   },
   "source": [
    "\n",
    "### **Task 2.3**\n",
    "*Adjust Max Tokens: Try generating responses with different limits on length, such as 50, 100, and 2000 tokens, to see how it impacts the detail and depth of the story.*\n"
   ]
  },
  {
   "cell_type": "code",
   "execution_count": 10,
   "metadata": {
    "id": "lQPLKOVDjecx"
   },
   "outputs": [
    {
     "name": "stdout",
     "output_type": "stream",
     "text": [
      "The Model responded with: 'In a distant galaxy, a group of intrepid explorers embarks on a thrilling space adventure aboard their spaceship, the Stardust Voyager. Their mission is to uncover the mysteries of a newly discovered planet that holds the key to the future of the universe'\n"
     ]
    }
   ],
   "source": [
    "# TODO: Change the MAX_TOKENS\n",
    "MAX_TOKENS: int = 50\n",
    "\n",
    "completion = client.chat.completions.create(\n",
    "  model=MODEL_NAME,\n",
    "  max_tokens=MAX_TOKENS,\n",
    "  messages=[\n",
    "    {\"role\": \"user\", \"content\": prompt}\n",
    "  ]\n",
    ")\n",
    "output = completion.choices[0].message.content\n",
    "print(f\"The Model responded with: '{output}'\")"
   ]
  },
  {
   "cell_type": "markdown",
   "metadata": {
    "id": "hM0XCIVhje2V"
   },
   "source": [
    "\n",
    "### **Task 2.4**\n",
    "*Experiment with Top P, Frequency Penalty, and Presence Penalty: Adjust these parameters to explore their effects on repetition, novelty, and thematic diversity.*\n"
   ]
  },
  {
   "cell_type": "code",
   "execution_count": 24,
   "metadata": {
    "id": "yMhkJ1u2jg5k"
   },
   "outputs": [
    {
     "name": "stdout",
     "output_type": "stream",
     "text": [
      "The Model responded with: 'As the spaceship soared through the vast expanse of space, the crew marveled at the beauty of the stars twinkling in the distance. They were on a mission to explore a newly discovered planet on the edge of the galaxy, hoping to uncover its secrets and perhaps even find signs of alien life. As they approached the planet, they were met with a breathtaking sight - towering mountains, lush forests, and crystal-clear lakes spread out before them. Eager to begin their exploration, the crew donned their spacesuits and prepared to embark on the adventure of a lifetime. Little did they know that their journey would lead them to encounters with strange creatures, ancient ruins, and the discovery of a long-lost civilization that would change the course of their lives forever.'\n"
     ]
    }
   ],
   "source": [
    "# TOP_P can be any float number between 0 and 1\n",
    "TOP_P: float = 0.1\n",
    "# FREQUENCY_PENALTY can be any float Number between -2.0 and 2.0.\n",
    "FREQUENCY_PENALTY: float = 0\n",
    "# PRESENCE_PENALTY  can be any float Number between -2.0 and 2.0.\n",
    "PRESENCE_PENALTY: float = 0\n",
    "\n",
    "completion = client.chat.completions.create(\n",
    "  model=MODEL_NAME,\n",
    "  top_p=TOP_P,\n",
    "  frequency_penalty=FREQUENCY_PENALTY,\n",
    "  presence_penalty=PRESENCE_PENALTY,\n",
    "\n",
    "  messages=[\n",
    "    {\"role\": \"user\", \"content\": prompt}\n",
    "  ]\n",
    ")\n",
    "output = completion.choices[0].message.content\n",
    "print(f\"The Model responded with: '{output}'\")"
   ]
  },
  {
   "cell_type": "markdown",
   "metadata": {
    "id": "3fKfM7-gjgbk"
   },
   "source": [
    "\n",
    "Reflect on how each parameter influenced the model's output. This exercise will enhance your understanding of how to control and guide the AI to achieve results that best fit your objectives."
   ]
  },
  {
   "cell_type": "markdown",
   "metadata": {
    "id": "WwGSpodOb4LR"
   },
   "source": [
    "## Part 3: Prompt engineering (15 min)"
   ]
  },
  {
   "cell_type": "markdown",
   "metadata": {
    "id": "lUeHYM4lS4jh"
   },
   "source": [
    "\n",
    "Prompt engineering is an art and science of designing inputs that guide Large Language Models (LLMs), such as Generative Pre-trained Transformer (GPT), to produce specific, high-quality responses or outputs. This process is foundational in the field of artificial intelligence because the precision with which we articulate our prompts significantly affects the AI's performance. A well-crafted prompt can lead to outputs that are not only accurate but also creative and contextually relevant, showcasing the model's capabilities to their fullest extent.\n",
    "\n",
    "### Engaging with Prompt Engineering\n",
    "Before we dive into specific tactics for effective prompt engineering, it's important to understand that the goal is to communicate with the model in its language. This means being clear, direct, and detailed in your requests.\n",
    "\n",
    "#### Tactics:\n",
    "<ul> \n",
    "    <li> <b>Include details in your query</b> to get more relevant answers.  \n",
    "        <details>\n",
    "            <summary>Example</summary>\n",
    "            Often people ask questions that are too broad or vague. Remember, the AI can't read your mind ;) \n",
    "            <br>\n",
    "            Your goal is to extract specific information from the AI.\n",
    "            <p> <i>Bad:</i> \"Tell me about dogs.\"</p>\n",
    "            <p> <i>Good:</i> \"Provide a detailed comparison between the adaptability, exercise needs, and temperament of Labrador Retrievers and Border Collies for potential dog owners.\"</p>\n",
    "        </details>\n",
    "    </li>\n",
    "    <li> <b>Ask the model to adopt a persona</b> for more tailored responses. \n",
    "        <details>\n",
    "            <summary>Example</summary>\n",
    "            Your goal is to make the interaction more engaging or specific.\n",
    "            <p> <i>Bad:</i> \"Explain quantum physics.\"</p>\n",
    "            <p> <i>Good:</i> \"Pretend you're a renowned physicist explaining the concepts of quantum physics to a high school student in a way that's easy to understand.\"</p>\n",
    "        </details>\n",
    "    </li>\n",
    "    <li> <b>Use delimiters</b> to clearly indicate distinct parts of the input.\n",
    "        <details>\n",
    "            <summary>Example</summary>\n",
    "            Your goal is to organize a multi-part question.\n",
    "            <p> <i>Bad:</i> \"What is the capital of France and tell me about its history.\"</p>\n",
    "            <p> <i>Good:</i> \"Question 1: What is the capital of France? | Question 2: Provide a brief history of the capital.\"</p>\n",
    "        </details>\n",
    "    </li>\n",
    "    <li> <b>Specify the steps</b> required to complete a task.\n",
    "        <details>\n",
    "            <summary>Example</summary>\n",
    "            Your goal is to get a walkthrough.\n",
    "            <p> <i>Bad:</i> \"How to bake a cake.\"</p>\n",
    "            <p> <i>Good:</i> \"List all the steps necessary to bake a chocolate cake, then create a list of needed ingredients with quantities, and baking time. Before estimating total time needed.\"</p>\n",
    "        </details>\n",
    "    </li>\n",
    "    <li> <b>Provide examples</b> to illustrate the type of response you're seeking. \n",
    "        <details>\n",
    "            <summary>Example</summary>\n",
    "            Your goal is to clarify your expectations.\n",
    "            <p> <i>Bad:</i> \"Generate a catchy slogan for my product.\"</p>\n",
    "            <p> <i>Good:</i> \"Generate a catchy slogan for my eco-friendly water bottle product. For example, something like 'Hydrate Sustainably' or 'Drink Green, Live Clean'.\"</p>\n",
    "        </details>\n",
    "    </li>\n",
    "    <li> <b>Specify the desired length</b> of the output to control verbosity. \n",
    "        <details>\n",
    "            <summary>Example</summary>\n",
    "            Your goal is to manage the depth of the response.\n",
    "            <p> <i>Bad:</i> \"Write an article on climate change.\"</p>\n",
    "            <p> <i>Good:</i> \"Write a concise 300-word article on the impacts of climate change on global weather patterns.\"</p>\n",
    "        </details>\n",
    "    </li>\n",
    "</ul>\n",
    "\n",
    "\n",
    "### Applying What We've Learned\n",
    "Now that we've outlined the key tactics for effective prompt engineering, let's put this knowledge into practice."
   ]
  },
  {
   "cell_type": "markdown",
   "metadata": {
    "id": "P8-IT4a3YB6j"
   },
   "source": [
    "### **Task 3.1**\n"
   ]
  },
  {
   "cell_type": "markdown",
   "metadata": {
    "id": "pSS-0U6sgp7v"
   },
   "source": [
    "Imagine you're working on the Cogito Project **TutorAI**, a cutting-edge AI tool designed to support students in their study efforts by creating concise, informative flashcards from dense academic texts. Your challenge is to engineer a prompt that instructs the LLM to distill complex material into easy-to-review flashcards, focusing on key concepts, definitions, and examples relevant to an upcoming exam.\n",
    "\n",
    "* **Extract Key Concepts and Definitions:** The AI must identify and summarize the main ideas and definitions found in a given academic text. This involves discerning the most important points that are crucial for understanding the subject matter.\n",
    "\n",
    "* **Format the Information for Flashcards:** The output should be structured in a way that is suitable for flashcard creation. Each flashcard will have a term or concept on one side and its definition or explanation on the other side, along with an example if appropriate.\n",
    "\n",
    "* **Control the Length:** Each flashcard content (term/definition/example) should be concise, aiming for no more than 50 words per side to facilitate quick review and memorization.\n",
    "\n",
    "This task will test your ability to use detailed queries, specify a structure, and control the output length—all crucial aspects of prompt engineering. Remember, the effectiveness of your prompt will directly influence the quality and relevance of the AI's response. Good luck!"
   ]
  },
  {
   "cell_type": "code",
   "execution_count": 31,
   "metadata": {
    "id": "931QTomvYCpj"
   },
   "outputs": [
    {
     "name": "stdout",
     "output_type": "stream",
     "text": [
      "The Model responded with the following flashcards: \n",
      "'Chapter 1 - Exploring Artificial Intelligence Approaches\n",
      "\n",
      "In the quest to understand and create artificial intelligence, humans have explored various approaches throughout history. Each method offers a unique perspective and set of principles towards achieving the ultimate goal of mimicking human thought and behavior. Let's delve deeper into these four fundamental approaches to artificial intelligence:\n",
      "\n",
      "1. **Acting Humanly**: This approach focuses on creating AI systems that can emulate human behavior to such a degree that it becomes indistinguishable from interacting with a human. The Turing Test, proposed by Alan Turing, serves as a benchmark for evaluating a machine's capability to exhibit human-like intelligence. For a computer to pass the Turing Test, it must excel in natural language processing, knowledge representation, automated reasoning, and machine learning.\n",
      "\n",
      "2. **Thinking Humanly**: In this approach, the goal is to enable computers to simulate human thought processes. By studying human cognition and behavior, researchers aim to develop AI systems that can replicate human thinking patterns. A key aspect of this approach involves comparing a computer's input-output mechanisms with human behavior to assess its capacity to think like a human.\n",
      "\n",
      "3. **Acting Rationally**: A rational agent is an entity capable of making decisions and taking actions that maximize its expected outcome based on available information and its environment. This approach emphasizes the importance of achieving optimal results through logical reasoning and effective decision-making. By acting rationally, AI systems can navigate complex scenarios and make choices that lead to favorable outcomes.\n",
      "\n",
      "4. **Thinking Rationally**: Thinking rationally involves employing logical rules and reasoning processes to derive accurate conclusions. By following sound logic principles, AI systems can analyze information, draw inferences, and make logical deductions. An example of rational thinking is illustrated by the classical logic rule of modus ponens, as showcased in the quote: \"Socrates is a man; all men are mortal; therefore, Socrates is mortal.\"\n",
      "\n",
      "As we embark on this exploration of artificial intelligence approaches, we uncover a rich tapestry of ideas and methodologies that continue to shape the evolution of AI. By understanding and harnessing these diverse approaches, we pave the way for new innovations and advancements in the field of artificial intelligence.'\n"
     ]
    }
   ],
   "source": [
    "book_paragraphs: str = \"\"\"\n",
    "Chapter 1 - Epic Introduction\n",
    "Since the dawn of time, humans have tried to define how we think, and this struggle has led us to create artificial intelligence. Historically, four approaches to artificial intelligence have been followed, each described below.\n",
    "\n",
    "Acting Humanly\n",
    "If we can't distinguish between a computer and a human, the computer is said to act humanly. The computer's capability to act humanly can be tested by performing a turing test. A computer passes the turing test if a human interrogator cannot tell whether he is communicating with a computer or a person. To pass a turing test, the computer would need to possess the following capabilities:\n",
    "\n",
    "Natural language processing to enable it to communicate successfully.\n",
    "Knowledge representation to store what it knows or hears.\n",
    "Automated reasoning to use the stored information to draw conclusions.\n",
    "Machine learning to adapt to new circumstances and to detect patterns.\n",
    "\n",
    "Thinking humanly\n",
    "To make a computer think like a human, we must know how humans think. The computers ability to think humanly can be determined by comparing the computer's input-output mechanism by the corresponding human behaviour.\n",
    "\n",
    "Acting Rationally\n",
    "An agent is something that acts. A rational agent is an agent that does the right thing based on what it knows, its functions, and the surrounding environment; it acts so that it achieves the best expected outcome.\n",
    "\n",
    "Thinking rationally\n",
    "Using sound logic rules to reach the right conclusion.\n",
    "\n",
    "A relevant quote, demonstrating the logical rule of modus ponens: \"Socrates is a man; all men are mortal; therefore, Socrates is mortal.\n",
    "\"\"\"\n",
    "\n",
    "def generate_flashcards_from_paragraphs(paragraph: str) -> str:\n",
    "  completion = client.chat.completions.create(\n",
    "    model=MODEL_NAME,\n",
    "    messages=[\n",
    "      # TODO: Create a prompt or combination of \"system\" and \"user\" prompts to achieve tasks objectives\n",
    "      {\"role\": \"system\", \"content\": \"\"},\n",
    "      {\"role\": \"user\", \"content\": book_paragraphs},\n",
    "    ]\n",
    "  )\n",
    "  return completion.choices[0].message.content\n",
    "\n",
    "flashcards = generate_flashcards_from_paragraphs(book_paragraphs)\n",
    "print(f\"The Model responded with the following flashcards: \\n'{flashcards}'\")"
   ]
  },
  {
   "cell_type": "markdown",
   "metadata": {
    "id": "mbtcDwricare"
   },
   "source": [
    "## Part 4: Embeddings (15 min)"
   ]
  },
  {
   "cell_type": "code",
   "execution_count": 36,
   "metadata": {
    "id": "UdYuCgxLcdZW"
   },
   "outputs": [
    {
     "name": "stdout",
     "output_type": "stream",
     "text": [
      "[-0.023377683013677597, 0.003655647160485387, 0.0025447788648307323, 0.0013432608684524894, -0.010772457346320152, 0.007403592113405466, 0.005910347681492567, -0.014385252259671688, -0.008741908706724644, -0.036813586950302124, 0.011939363554120064, 0.036338914185762405, -0.013132641091942787, -0.0035139042884111404, 0.004064394161105156, 0.017523372545838356, 0.023746874183416367, 0.004008356016129255, 0.007113514002412558, -0.020542826503515244, -0.018090344965457916, 0.010495563969016075, 0.0054488591849803925, -0.012934859842061996, -0.007179440464824438, 0.006457541137933731, 0.014490734785795212, -0.018525462597608566, -0.0018031010404229164, -0.01964621990919113, 0.0023107382003217936, -0.006935511250048876, -0.011622914113104343, -0.029587997123599052, -0.003869909793138504, -0.002218440640717745, -0.0016275706002488732, -0.02945614419877529, 0.014016061089932919, 0.0030062671285122633, 0.013297458179295063, -0.007621150929480791, -0.0032304187770932913, -0.013020564801990986, -0.015941128134727478, 0.006975067313760519, 0.001862435252405703, -0.013501831330358982, -0.003685314441099763, -0.003902873257175088, 0.032488781958818436, 0.01961984857916832, -0.02808486483991146, -0.006296020001173019, -0.016692694276571274, 0.009664885699748993, -0.012058031745254993, 0.006246574688702822, 0.005501600913703442, -0.020397786051034927, 0.006704766768962145, 0.018960580229759216, -0.022322852164506912, 0.0012831025524064898, -0.014583032578229904, -0.010027483105659485, 0.0035600531846284866, 0.011998698115348816, 0.009012209251523018, 0.006371836178004742, 0.030405491590499878, 0.012829377315938473, -0.009869258850812912, -0.006830028258264065, 0.013086492195725441, 0.002421165816485882, -0.0171805527061224, -0.00462806923314929, 0.009097914211452007, 0.00042687676614150405, -0.002772226696833968, -0.0321987047791481, 0.00845182966440916, 0.02497311495244503, 0.002071753144264221, 0.0027557448484003544, -0.009882444515824318, 0.03842220455408096, -0.0059960526414215565, 0.01143172662705183, 0.01273707952350378, 0.005887273233383894, -0.00885398406535387, -0.0003642461961135268, -0.001273213536478579, 0.03541593626141548, -0.002047030720859766, 0.02162402682006359, 0.027372853830456734, -0.005363154225051403, 0.0024887409526854753, 0.023918284103274345, -0.012216256931424141, -0.016587210819125175, -0.03325353562831879, -0.006816842593252659, 0.006328983698040247, -0.00553126772865653, 0.023786429315805435, 0.0032930492889136076, -0.00992859248071909, 0.01603342406451702, 0.0005570824141614139, -0.04461933299899101, 0.003724870504811406, 0.012592040002346039, 0.004634662065654993, -0.014424808323383331, -0.004773108288645744, -0.023021677508950233, 0.021703138947486877, 0.03876502439379692, -0.014886296354234219, -0.0027211331762373447, 0.024999484419822693, -0.006635543890297413, 0.0014413271564990282, -0.020305488258600235, -0.021887734532356262, -0.008043083362281322, 0.014464364387094975, 0.005056594032794237, 0.009447326883673668, 0.006694877985864878, -0.019277028739452362, 0.02845405600965023, -0.0027623376809060574, 0.015426897443830967, -0.03196136653423309, -0.01988355629146099, 0.01820901222527027, 0.015862014144659042, -0.016653137281537056, -0.00028266164008527994, -0.01838042214512825, 0.024313844740390778, -0.004057801328599453, 0.013528202660381794, 0.0016473487485200167, -0.020107708871364594, 0.014372066594660282, -0.005646639969199896, -0.009229768067598343, 0.005435673985630274, -0.005455452017486095, 0.0321987047791481, 0.015004965476691723, -0.016850918531417847, -0.014662145636975765, -0.009539623744785786, -0.005613676737993956, 0.013231530785560608, -0.0016976179322227836, 0.0003623919910751283, 0.018604574725031853, 0.024089694023132324, 0.010001112706959248, 0.006510282400995493, 0.0005335959140211344, -0.0027376150246709585, -0.0021574581041932106, 0.014385252259671688, -0.032752491533756256, 0.006048794370144606, -0.018235383555293083, -0.0010012650163844228, 0.011847065761685371, -0.0081024169921875, -0.027056405320763588, -0.02758382074534893, -0.016283947974443436, -0.007146477233618498, -0.002058567712083459, 0.027662932872772217, -0.00791782233864069, -0.009559402242302895, 0.006174055393785238, -0.015295043587684631, 0.012031661346554756, -0.011154833249747753, 0.010080224834382534, 0.03668173402547836, 0.0007404416101053357, 0.0113130584359169, -0.6877495646476746, -0.004581920336931944, 0.04163943603634834, -0.020147264003753662, 0.0077068558894097805, 0.024419328197836876, 0.0025348898489028215, -0.020331859588623047, -0.005511489696800709, 0.021070241928100586, -0.007027808576822281, -0.008603462018072605, -0.01700914278626442, -0.00445336289703846, 0.012592040002346039, 0.0008001878741197288, -0.0011726749362424016, -0.03193499520421028, 0.01459621824324131, 0.010284597985446453, -0.013244716450572014, 0.010825199075043201, 0.007153070066124201, -0.0023486462887376547, 6.731756002409384e-05, 0.008643018081784248, 0.009598958306014538, -0.01471488643437624, 0.010304376482963562, 0.012275590561330318, -0.008161751553416252, 0.019909927621483803, 0.006167462561279535, 0.0030672496650367975, 0.04063734784722328, -0.023984210565686226, -0.015163189731538296, 0.020463712513446808, 0.0075024827383458614, 0.025065412744879723, -0.025052227079868317, -0.006777286529541016, 0.014517106115818024, -0.011754767969250679, -0.004206136800348759, 0.02407650835812092, 0.015255487523972988, -0.004703884944319725, -0.014029246754944324, -0.015862014144659042, -0.0008619943982921541, 0.027900269255042076, -0.011556987650692463, 0.01068015955388546, -0.0006959409802220762, -0.024129249155521393, 0.02340405434370041, 0.011840472929179668, 0.015387341380119324, -0.005527971778064966, -0.005781790241599083, 0.01464895997196436, -0.013383163139224052, 0.0021673471201211214, -0.007265145890414715, 0.018288126215338707, -0.03325353562831879, 0.04488304257392883, 0.013475460931658745, -0.03090653568506241, 0.020160449668765068, 7.468283001799136e-05, 0.0026008167769759893, -0.008761686272919178, 0.0039061694405972958, 0.03143395110964775, 0.013567758724093437, -0.016178464516997337, -0.0071662552654743195, 0.009117691777646542, -0.006009237840771675, -0.009381399489939213, -0.006513578817248344, -0.0015789495082572103, 0.008794650435447693, 0.0056894924491643906, -0.03225144371390343, 0.009704441763460636, 0.014939038082957268, -0.003879798809066415, 0.014068802818655968, 0.010818606242537498, -0.02945614419877529, -0.0266476571559906, -0.0036886106245219707, 0.022336037829518318, 0.013528202660381794, 0.011761360801756382, 0.02969348058104515, -0.0010902662761509418, -0.008306791074573994, -0.009051765315234661, 0.015413711778819561, 0.013541387394070625, 0.01596749760210514, 0.00574223417788744, -0.015545565634965897, 0.01894739456474781, -0.003995170816779137, -0.03678721562027931, -0.02223055437207222, -0.00930888019502163, -0.011253723874688148, -0.004951111041009426, -0.017984861508011818, -0.027742045000195503, 0.01751018688082695, 0.01590157113969326, 0.023746874183416367, -0.0013276032404974103, 0.004555549472570419, 0.006741026882082224, 0.0026914661284536123, 0.013198567554354668, -0.002208551624789834, 0.009262731298804283, 0.006711359601467848, -0.022454706951975822, -0.023549092933535576, 0.0224019642919302, 0.012835970148444176, 0.003942429553717375, 0.012519520707428455, -0.0073772212490439415, 0.026357579976320267, -0.00037372318911366165, 0.002894191537052393, 0.0036358691286295652, 0.008860576897859573, -0.030748311430215836, 0.01191958598792553, 0.01921110227704048, 0.004219322465360165, -0.03066919930279255, -0.024630295112729073, -0.0030013227369636297, -0.022283297032117844, 0.0030540642328560352, -0.009948370978236198, -0.012084403075277805, 0.010304376482963562, 0.0029156177770346403, 0.007851894944906235, 0.009071542881429195, 0.006681692320853472, -0.004344583489000797, -0.014332510530948639, -0.015136819332838058, -0.007370628882199526, -0.025962017476558685, -0.004044616129249334, 0.0313284695148468, -0.020582381635904312, -0.011596543714404106, -0.01820901222527027, -0.007337665185332298, 0.006170758977532387, 0.017022328451275826, -0.00401824526488781, -0.0217558816075325, 0.01871005818247795, -0.013284272514283657, -0.001750359544530511, 0.0025299452245235443, 0.004634662065654993, 0.008128788322210312, -0.020147264003753662, -0.0215317290276289, -0.005867495201528072, -0.02216462790966034, -0.00779256084933877, -0.005794975440949202, -0.005241189617663622, 0.002119550248607993, 0.015334599651396275, 0.008867169730365276, 0.00795078556984663, 0.018169457092881203, -0.008985837921500206, -0.01235470362007618, 0.01931658573448658, 0.02695092186331749, -0.020701050758361816, 0.011273502372205257, -0.007575002033263445, 0.0019300103886052966, -0.019237473607063293, 0.012862340547144413, 0.016521284356713295, 0.009526439011096954, 0.023048048838973045, 0.002731022424995899, 0.0007989517762325704, 0.012117366306483746, 0.003596313064917922, -0.02969348058104515, -0.013712797313928604, -0.016864104196429253, 0.027979381382465363, 0.004947814624756575, 0.015809273347258568, 0.006464133504778147, -0.014227028004825115, 0.009190211072564125, 0.012763449922204018, 0.028401313349604607, -0.010634010657668114, 0.00330623472109437, -0.016455357894301414, -0.03225144371390343, -0.02273159846663475, -0.00577519740909338, 0.020463712513446808, 0.003652350977063179, -0.015506009571254253, 0.008834206499159336, 0.0004161636170465499, 0.005524675361812115, 0.007667299825698137, -0.04190314561128616, 0.004479733761399984, 0.02306123450398445, 0.018327681347727776, 0.023417238146066666, -0.0025184080004692078, -0.012255812995135784, 0.020173635333776474, 0.011781139299273491, 0.025421416386961937, 0.001072960440069437, 0.011939363554120064, 0.02808486483991146, 0.03618068993091583, -0.017721153795719147, 0.02236240915954113, 0.01744426041841507, 0.035574160516262054, 0.012809598818421364, -0.0020124190486967564, 0.008755093440413475, -0.003523793537169695, -0.0018261754885315895, 0.0055543421767652035, 0.007192626129835844, 0.028875987976789474, -0.011524024419486523, -0.0018261754885315895, 0.01901332102715969, 0.00888694729655981, 0.029218807816505432, -0.009500067681074142, 0.0006460837321355939, -0.010086817666888237, 0.0014825314283370972, 0.01015933696180582, -0.008254049345850945, -0.030247267335653305, -0.01921110227704048, -0.014688516035676003, 0.025025855749845505, -0.011563580483198166, -0.015360970050096512, -0.005834531504660845, -0.01491266768425703, -0.008774871937930584, 0.0019563811365514994, 0.022652486339211464, 0.016204833984375, -0.004562142305076122, 0.013594129122793674, 0.0014561606803908944, -0.02892872877418995, 0.032225076109170914, 0.004087468609213829, -0.01640261523425579, -0.01616527885198593, -0.04757285863161087, 0.01471488643437624, -0.011787732131779194, 0.018538648262619972, 0.016494913026690483, 0.03056371584534645, 0.011016386561095715, -0.009796738624572754, 0.013765539042651653, 0.013673241250216961, 0.03288434445858002, -0.005827939137816429, -0.0014199009165167809, -0.010990016162395477, -0.00826723501086235, 0.008610054850578308, -0.0073904069140553474, -0.001064719632267952, 0.02397102490067482, -0.0073904069140553474, 0.01583564467728138, -0.0053664506413042545, -0.028902357444167137, 0.0005513138021342456, 0.0026980589609593153, 0.011596543714404106, -0.013429312035441399, -0.020503269508481026, 0.020780162885785103, 0.022441521286964417, 0.0030524160247296095, 0.009084728546440601, 0.02869139239192009, -0.0010465896921232343, 0.002330516232177615, -0.016191650182008743, -0.009236359968781471, 0.01764204166829586, 0.050737351179122925, 0.012545891106128693, -0.005204929504543543, 0.002815079176798463, -0.018802355974912643, -0.021202094852924347, -0.04008356109261513, 0.0226261168718338, -0.022256925702095032, -0.003685314441099763, -0.016956401988863945, -0.0029073767364025116, 0.01961984857916832, 0.007192626129835844, 0.0191451758146286, 0.01242063008248806, 0.001652293256483972, -0.006005941890180111, 0.015321413986384869, -0.010739494115114212, -0.0025744459126144648, -0.0011561932042241096, -0.0071662552654743195, 0.00949347484856844, 0.0023189790081232786, -0.029957188293337822, 0.009381399489939213, 0.001402595080435276, -0.004328101873397827, -0.0224019642919302, 0.012394259683787823, 0.013356792740523815, -0.01027800515294075, 0.005999349057674408, -0.010205485858023167, 0.011741583235561848, 0.0015913108363747597, 0.01447755005210638, 0.023483166471123695, 0.0056598251685500145, 0.007726633921265602, 0.01174817606806755, 0.0013580943923443556, 0.0006716304342262447, 0.014437993988394737, -0.020938387140631676, -0.0130535289645195, 0.010357118211686611, -0.007456333842128515, 0.0014569847844541073, 0.015782902017235756, 0.00767389265820384, -0.01811671443283558, -0.02008133754134178, 0.008445237763226032, -0.0012377777602523565, -0.0023750169202685356, -0.01644217222929001, -0.0028513388242572546, -0.05144936218857765, -0.0217558816075325, -0.026238910853862762, -0.002088234992697835, -0.023786429315805435, -0.008999023586511612, -0.023377683013677597, -0.008794650435447693, -0.005488415248692036, 0.013277679681777954, -0.004150099121034145, 0.0036589435767382383, -0.021650398150086403, -0.02993081882596016, -0.040426380932331085, 0.0006431994261220098, 0.011820695362985134, 0.0157697182148695, -0.027056405320763588, -0.0011355910683050752, -0.003965503536164761, -0.001668774988502264, -0.007337665185332298, 0.0025760941207408905, -0.016415800899267197, -0.013673241250216961, 0.001806397340260446, 0.0022794229444116354, -0.0017272850964218378, -0.006691581569612026, -0.006497097201645374, 0.03317442163825035, 0.023324942216277122, 0.0188155397772789, -0.0028249681927263737, -0.005607083905488253, -0.006915733218193054, 0.006361946929246187, 0.031117502599954605, -0.008603462018072605, -0.018024418503046036, 0.003790797432884574, -0.02956162765622139, 0.004806071985512972, -0.0014973649522289634, 0.014569847844541073, -0.00401824526488781, 0.018762798979878426, 0.010897718369960785, -0.009981334209442139, 0.0013399644521996379, -0.005452155601233244, -0.009763775393366814, -0.011491061188280582, 0.005234596785157919, 0.030721940100193024, -0.010047261603176594, 0.002315682824701071, 0.005102742929011583, -0.027030033990740776, -0.0007091263541951776, -0.004341287072747946, -0.006388317793607712, 0.006118017248809338, 0.01751018688082695, -0.0078123388811945915, 0.021347133442759514, -0.006513578817248344, 0.005781790241599083, -0.013646870851516724, 0.0033589762169867754, -0.007766189984977245, 0.03182951360940933, -0.023021677508950233, -0.011886621825397015, -0.002337109064683318, -0.014675330370664597, -0.0361015759408474, -0.0028299125842750072, -0.0098428875207901, 0.005073075648397207, -0.017417890951037407, 0.0040841721929609776, 0.007805746514350176, 0.00038031587610021234, -0.031724028289318085, -0.027135517448186874, -0.02038460038602352, 0.016020240262150764, -0.003297993680462241, 1.2116644938942045e-05, 0.0031595472246408463, 0.022652486339211464, -0.017404705286026, -0.029482515528798103, -0.002442592056468129, -0.009664885699748993, -0.029904447495937347, 0.026911364868283272, 0.032989826053380966, 0.005158781073987484, 0.05144936218857765, -0.013712797313928604, 0.02129439264535904, 0.003701796056702733, 0.004667625296860933, 0.01009341049939394, 0.013007380068302155, -0.009565995074808598, -1.2998675629205536e-05, 0.009031986817717552, 0.014635774306952953, 0.00845182966440916, -0.007805746514350176, 0.010983423329889774, 0.0037776120007038116, 0.021505357697606087, -0.025922462344169617, -0.0009963205084204674, -0.012440408580005169, -0.0139237642288208, -0.014991779811680317, 0.003330957144498825, -0.010930681601166725, 0.016613582149147987, -0.02517089433968067, -0.008761686272919178, -0.007344258017838001, 0.0027837639208883047, 0.020648308098316193, 0.00798374880105257, 0.009638514369726181, -0.00031294679502025247, 0.014108358882367611, 0.01166906300932169, -0.0001326779165538028, -0.010950460098683834, -0.0024821481201797724, -0.006141091696918011, 0.0021871253848075867, 0.023812800645828247, 0.010113188065588474, 0.03230418637394905, -0.013442497700452805, 0.01777389459311962, 0.01861776039004326, 0.00708055030554533, -0.011359207332134247, -0.01777389459311962, 0.015453267842531204, -0.01102957222610712, -0.01607298105955124, -0.05996711924672127, -0.06144388020038605, -0.02842768467962742, -0.0014619292924180627, 0.020635124295949936, -0.017760710790753365, 0.009335250593721867, 0.0029798964969813824, -0.01596749760210514, -0.017549743875861168, 0.018670501187443733, 0.045779649168252945, 0.0005216466961428523, 0.01646854169666767, 0.014002876356244087, -0.0014948927564546466, -0.003708388889208436, 0.027267370373010635, -0.006764101330190897, 0.007364036049693823, 0.029508884996175766, 0.006322390865534544, -0.008188122883439064, -0.012321739457547665, -0.008675981312990189, -0.00723877502605319, -0.0017866193084046245, -0.02253381907939911, 0.01551919523626566, 0.004961000289767981, -0.026001574471592903, 0.013106269761919975, -0.007739819586277008, -0.028665021061897278, -0.0020387896802276373, -0.03019452467560768, -0.012934859842061996, -0.018565017729997635, -0.0029963781125843525, -0.028243089094758034, 0.03016815520823002, -0.011570173315703869, 0.023549092933535576, -0.010535120964050293, -0.0003790797491092235, -0.015057706274092197, -0.0017520076362416148, 0.014490734785795212, -0.0016819603042677045, 0.020173635333776474, 0.024894000962376595, -0.009051765315234661, 0.006038905121386051, 0.017826637253165245, -0.013910578563809395, -0.0009633569861762226, 0.0215317290276289, -0.011721804738044739, 0.02758382074534893, -0.010937274433672428, -0.017365148290991783, 0.006777286529541016, 0.013066713698208332, 0.006309205666184425, -0.009790146723389626, 0.004265471361577511, -0.018841911107301712, -0.00196627015247941, -0.016428986564278603, 0.021333947777748108, -0.009355029091238976, -0.0025777423288673162, 0.0010284598683938384, -0.013699612580239773, 0.015413711778819561, 0.0043511763215065, -0.013805095106363297, -0.002869468880817294, -0.02732011303305626, 0.0010795531561598182, -0.0070607722736895084, 0.010838384740054607, 0.03354361280798912, -0.008979245088994503, -0.008768279105424881, -0.0015328007284551859, 0.04134935885667801, -0.014939038082957268, -0.001547634252347052, 0.025460973381996155, 0.01056149136275053, -0.012440408580005169, -0.006731137633323669, 0.019725332036614418, -0.023483166471123695, 0.00843864493072033, -0.004944518208503723, 0.008465015329420567, -0.006147684529423714, -0.0017388223204761744, 0.0005162901361472905, -0.005188447888940573, -0.006523468066006899, -0.009302287362515926, -0.004117135424166918, 0.01366005651652813, -0.013330421410501003, -0.011141648516058922, 0.0014470957685261965, 0.0007433259161189198, 0.0197912584990263, 0.019764889031648636, -0.016428986564278603, 0.003177677048370242, -0.0007725809700787067, -0.012763449922204018, -0.002935395808890462, -0.03499400615692139, -0.00464455084875226, 0.015782902017235756, 0.015492823906242847, -0.0028183755930513144, -0.018090344965457916, -0.021940475329756737, -0.016692694276571274, -0.009434141218662262, 0.018921023234725, -0.003589720232412219, -0.008761686272919178, 0.009190211072564125, 0.009902222082018852, 0.01024504192173481, -0.01102957222610712, -0.02627846784889698, -0.016204833984375, 0.005485118832439184, -0.005290634464472532, -0.02732011303305626, -0.0008347995462827384, -0.014490734785795212, 0.013297458179295063, 0.008339754305779934, -0.03106475993990898, -0.015796087682247162, 0.003339198185130954, -0.036470767110586166, -0.02029230259358883, -0.00803649052977562, -0.019844001159071922, 0.008524349890649319, 0.02644987776875496, 0.009401177987456322, 0.013567758724093437, 0.0052214115858078, 0.025487344712018967, -0.020279118791222572, 0.003606202080845833, 0.007093735504895449, -0.01994948275387287, -0.0003943253541365266, 0.021109797060489655, -0.016613582149147987, -0.003550164168700576, -0.0027227813843637705, 0.001911880448460579, 0.010772457346320152, 0.025869719684123993, -0.009328657761216164, -0.004759923089295626, 0.002386554144322872, -0.0038204644806683064, 0.011754767969250679, 0.015242301858961582, 0.017325593158602715, -0.013699612580239773, 0.008445237763226032, -0.005798271857202053, 0.015796087682247162, 0.0029320993926376104, 0.006480615586042404, 0.018235383555293083, 0.0022464594803750515, 0.012427222914993763, -0.017048699781298637, 0.0054488591849803925, -0.010950460098683834, -0.0011636100243777037, 0.014793998561799526, -0.009216582402586937, -0.01871005818247795, 0.027293741703033447, 0.011642692610621452, -0.010383488610386848, -0.002646965440362692, 0.009051765315234661, -0.016864104196429253, -0.02979896403849125, -0.00017460330855101347, -0.026726769283413887, -0.014490734785795212, -0.03380731865763664, 0.010574677027761936, -0.023113975301384926, 0.007139884401112795, 0.015110448002815247, -0.002564556896686554, -0.009335250593721867, 0.016930030658841133, 0.00025732096401043236, -0.03217233344912529, -0.0052247075363993645, -0.021914105862379074, 0.007898043841123581, -0.03776293620467186, -0.0033177719451487064, -0.002513463608920574, 0.009183619171380997, 0.0014503920683637261, -0.00016049083205871284, -0.014675330370664597, -0.0010952107841148973, 0.016864104196429253, 0.020173635333776474, 0.005257671233266592, 0.023641390725970268, 0.2162402719259262, -0.022850267589092255, -0.0006143564241938293, 0.0200154110789299, -0.0032188815530389547, 0.0007775255362503231, 8.395380427828059e-05, 0.003892984241247177, -0.018604574725031853, -0.009954963810741901, 0.014859925955533981, 0.00013854952703695744, -0.0022975527681410313, -0.003612794680520892, 0.003500719089061022, -0.024590738117694855, -0.0058839768171310425, -0.017853008583188057, -0.027926640585064888, -0.01515000406652689, -0.005082964897155762, -0.019778072834014893, -0.002393146976828575, -0.01874961331486702, 0.013686426915228367, 9.99204785330221e-05, 0.003360624425113201, 0.00016986481205094606, 0.010864755138754845, 0.03399191424250603, -0.005089557729661465, 0.00024248742556665093, 0.01720692403614521, -0.0034216067288070917, -0.011827288195490837, -0.0037149814888834953, 0.015914756804704666, 0.00017851771553978324, 0.027794785797595978, 0.01607298105955124, 0.03140757977962494, -0.020147264003753662, 0.003606202080845833, -0.002726077800616622, 0.007931007072329521, 0.002477203728631139, -0.021716324612498283, -0.008610054850578308, -0.00980992428958416, 0.035099487751722336, 0.006513578817248344, -0.004479733761399984, 0.015215931460261345, 0.01855183206498623, -0.008214493282139301, -0.00561697268858552, -0.0005125817260704935, 0.017457446083426476, 0.024458885192871094, -0.006154277361929417, 0.014503920450806618, 0.027478337287902832, 0.0026255392003804445, 0.005831235554069281, -0.010370302945375443, 0.02045052871108055, -0.031222986057400703, 0.021202094852924347, 0.0016860808245837688, -0.010990016162395477, 0.0035303861368447542, -0.009275916032493114, -0.002485444536432624, -0.004970889072865248, -0.029245177283883095, -0.022678857669234276, 0.03618068993091583, 0.01931658573448658, 0.028875987976789474, 0.016415800899267197, -0.0065300604328513145, -0.010080224834382534, -0.0103307468816638, -0.012987601570785046, -0.04272063821554184, -0.04965614899992943, 0.021874548867344856, -0.022757969796657562, 0.004281952977180481, -0.024063322693109512, 0.00786508060991764, 0.0009823109721764922, -0.0017833230085670948, -0.011121870018541813, 0.008029897697269917, 0.011075721122324467, 0.0052609676495194435, 0.02018682099878788, -0.010601047426462173, 0.004324805457144976, -0.019764889031648636, 0.015110448002815247, 0.02721462957561016, -0.004789590369910002, -0.01427976880222559, 0.013712797313928604, -0.011655878275632858, -0.011154833249747753, 0.006296020001173019, -0.011293279938399792, -0.01961984857916832, -0.02584335021674633, 0.002088234992697835, -0.016850918531417847, -0.007944192737340927, 0.012895303778350353, 0.025434602051973343, -0.015110448002815247, 0.01844635047018528, -0.0208856463432312, -0.027478337287902832, -0.020239561796188354, -0.00025155238108709455, 0.013198567554354668, -0.0026172983925789595, -0.008715537376701832, -0.012994194403290749, 0.007871673442423344, -0.012262405827641487, -0.012578854337334633, 0.028032122179865837, 0.0029139695689082146, 0.021980032324790955, 0.011154833249747753, -0.0170750692486763, 0.038184866309165955, 0.011174611747264862, 0.0191451758146286, -0.010146151296794415, 0.02658173069357872, 0.010456007905304432, -0.023127160966396332, 0.006684988737106323, -0.008524349890649319, -0.010456007905304432, -0.028243089094758034, 0.013495238497853279, 0.00596638536080718, 0.00025732096401043236, -0.03138120844960213, -0.025250006467103958, -0.009031986817717552, -0.008616647683084011, -0.009031986817717552, 0.027531078085303307, -0.018459536135196686, 0.0015591714764013886, -0.04844309389591217, -0.020608752965927124, 0.00806945376098156, -0.029350660741329193, -0.001307000988163054, 0.008109009824693203, -0.03575875610113144, -0.014952223747968674, -0.006520171649754047, -0.17035514116287231, 0.009625328704714775, 0.002749152248725295, -0.028111234307289124, -0.0033177719451487064, 0.015954311937093735, 0.0043841395527124405, 0.003958911169320345, -0.013818280771374702, -0.002040437888354063, 0.01925065740942955, -0.010976830497384071, -0.03106475993990898, -0.01277004275470972, -0.006500393617898226, 0.018037602305412292, -0.010726308450102806, -0.022889824584126472, 0.042298708111047745, 0.010759271681308746, 0.030379120260477066, -0.03549505025148392, 0.01416110061109066, -0.006975067313760519, 0.0005232948460616171, 0.006065275985747576, -0.001434734440408647, 0.03280523046851158, -0.004288545809686184, -0.0004709653730969876, 0.010779050178825855, -0.028269460424780846, 0.03454570099711418, -0.0049313330091536045, 0.01280300598591566, 0.015018150210380554, 0.02360183373093605, -0.02192729152739048, -0.004878591280430555, 0.01590157113969326, 0.026027943938970566, -0.0026716880965977907, -0.01720692403614521, 0.006480615586042404, 0.0029947299044579268, 0.012994194403290749, 0.02256018854677677, -0.008089232258498669, 0.027504706755280495, -0.0012880470603704453, 0.005682899616658688, -0.019369326531887054, 0.011332836002111435, 0.0014973649522289634, 0.009981334209442139, 0.01901332102715969, 0.00767389265820384, 0.018960580229759216, 0.014543476514518261, -0.0054719336330890656, 0.025250006467103958, -0.034703925251960754, -0.01108231395483017, -0.027240999042987823, -0.021017499268054962, -0.02842768467962742, -0.020331859588623047, 0.006615765392780304, -0.0019959372002631426, 0.00518185505643487, -0.016178464516997337, 0.0027936529368162155, 0.006602580193430185, -0.007298109121620655, -0.0047434414736926556, 0.027662932872772217, -0.013673241250216961, 0.022810710594058037, 0.003619387513026595, -0.013646870851516724, -0.0018723242683336139, 0.029587997123599052, -0.0021805325523018837, 0.003619387513026595, 0.003250196808949113, -0.019105618819594383, 0.0011660822201520205, -0.0020536233205348253, -0.02292937971651554, -0.012249220162630081, 0.013079899363219738, -0.05005171149969101, -0.0023849059361964464, -0.016191650182008743, 0.012928267009556293, 0.026489432901144028, 0.0013803447363898158, -0.0011743231443688273, -0.0022464594803750515, -0.014622588641941547, -0.020160449668765068, -0.005976274609565735, -0.010739494115114212, 0.02005496621131897, 0.031143873929977417, 0.0031035093124955893, 0.007575002033263445, -0.005033519584685564, 0.055325865745544434, -0.003589720232412219, -0.010772457346320152, -0.008359532803297043, 0.018459536135196686, 0.015360970050096512, 0.011688841506838799, 0.0341501384973526, -0.009467104449868202, -0.01596749760210514, 0.015848830342292786, 0.0036259801127016544, 0.05664440244436264, 0.01384465117007494, -0.02397102490067482, 0.02129439264535904, -0.004829146433621645, -0.02497311495244503, -0.10052535682916641, -0.016125721856951714, 0.0182749405503273, 0.012447000481188297, -0.013119455426931381, 0.02203277312219143, 0.0010128021240234375, 0.001273213536478579, -0.02571149542927742, 0.022942565381526947, -0.008010120131075382, -0.04857494682073593, -0.014688516035676003, -0.009018801152706146, -0.004961000289767981, 0.004512696992605925, 0.011767953634262085, 0.010792235843837261, -0.01737833395600319, 0.030590087175369263, 0.0011191093362867832, -0.0028035419527441263, 0.024116063490509987, -0.01551919523626566, -0.0005715039442293346, 0.013857836835086346, -0.022085515782237053, -0.0036325729452073574, 0.011576766148209572, -0.005719159729778767, 0.008168344385921955, -0.02755744941532612, -0.0002909025060944259, -0.020582381635904312, 0.0038896878249943256, -0.007370628882199526, -0.0019398994045332074, 0.003655647160485387, 0.02279752679169178, -0.04256241396069527, 0.004555549472570419, -0.029139695689082146, -0.0157697182148695, -0.015624677762389183, -0.0005014565540477633, 0.017417890951037407, -0.007172848097980022, 0.0005414247862063348, 0.022375592961907387, -0.015571936964988708, -0.026766326278448105, -0.012829377315938473, -0.02466985024511814, -0.0016011998523026705, 0.030590087175369263, 0.011385577730834484, 0.004311620257794857, -0.011945956386625767, -0.010693345218896866, 0.00383694632910192, -0.02732011303305626, -0.005811457056552172, -0.026964107528328896, 0.009203396737575531, 0.009974741376936436, -0.004374250769615173, -0.0200154110789299, -0.014899482019245625, -0.0032930492889136076, -0.0022134960163384676, -0.016191650182008743, 0.012196478433907032, -0.013910578563809395, 0.027399225160479546, -0.03320079296827316, 0.0022777747362852097, -0.016086166724562645, -0.01596749760210514, 0.02051645517349243, -0.009585772641003132, -0.021769065409898758, -0.014464364387094975, 0.017246481031179428, -0.01985718496143818, -0.0025843349285423756, 0.021900920197367668, -0.01015933696180582, 0.013495238497853279, -0.008359532803297043, -0.03713003545999527, -0.012328332290053368, 0.010917496867477894, 0.02638394944369793, -0.03127572685480118, -0.012255812995135784, 0.009229768067598343, -0.012915082275867462, -0.004862109664827585, 0.025263192132115364, 0.01404243241995573, -0.024379771202802658, 0.001274861628189683, -0.05442925915122032, 0.00422591483220458, -0.003879798809066415, -0.021584471687674522, -0.0018195827724412084, -0.02457755245268345, -0.019962668418884277, -0.002201958792284131, 0.0016630063764750957, 0.019975854083895683, 0.0037512413691729307, 0.002483796328306198, 0.002773874904960394, 0.010706530883908272, -0.01596749760210514, -0.02353590726852417, 0.021940475329756737, -0.0030524160247296095, 0.004535771440714598, 0.025869719684123993, -0.009480290114879608, -0.01000770553946495, 0.004776404704898596, 0.01818264275789261, 0.004545660689473152, -7.900928176240996e-05, -0.014385252259671688, 0.013831466436386108, -0.02138669043779373, -0.009539623744785786, 0.0011916289804503322, -0.04185040295124054, -0.008669388480484486, 0.028665021061897278, 0.0006955289281904697, -0.022639300674200058, 0.024050137028098106, 0.015624677762389183, 0.03325353562831879, 0.019461624324321747, -0.012776635587215424, -0.024814888834953308, 0.020410971716046333, 0.009275916032493114, -0.005109335761517286, 0.012453593313694, -0.01325790211558342, -0.0025711494963616133, 0.015123633667826653, 0.007963971234858036, 0.0226261168718338, 0.011128462851047516, -0.011319650337100029, 0.009295694530010223, -0.005679603666067123, 0.0017767302924767137, 0.026186170056462288, -0.0021640509366989136, -0.002048678696155548, -0.027399225160479546, 0.04965614899992943, 0.016283947974443436, 0.009071542881429195, -0.005185151472687721, 0.008801242336630821, 0.010073632001876831, -0.016995957121253014, 0.01111527718603611, 0.011372392065823078, -0.0009748942102305591, -0.018037602305412292, 0.01250633504241705, 0.005574120208621025, 0.002081642160192132, 0.008834206499159336, 0.004153395537286997, 0.015163189731538296, -0.0016086166724562645, -0.022349223494529724, 0.033227164298295975, 0.007522260770201683, -0.011214167810976505, -0.009579180739820004, 0.008933096192777157, 0.013383163139224052, 0.026199353858828545, 0.0007853543502278626, 0.011471282690763474, -0.005310412961989641, -0.001347381272353232, -0.015044521540403366, -0.0015072539681568742, 0.013515016995370388, -0.002895839512348175, -0.013350199908018112, 0.004298434592783451, 0.0059894598089158535, 0.027610190212726593, 0.029957188293337822, 0.025685124099254608, 0.0365498811006546, 0.0037281669210642576, -0.017286036163568497, -0.042931605130434036, -0.020094523206353188, 0.01781345158815384, 0.004344583489000797, -0.03256789594888687, -0.000417605770053342, 0.009618736803531647, 0.010139559395611286, 0.000540600682143122, -0.03341175988316536, 0.004723663441836834, -0.020437343046069145, -0.013633685186505318, -0.00969125609844923, -0.017127811908721924, -0.03169766068458557, 0.021940475329756737, -0.007172848097980022, 0.030748311430215836, 0.012578854337334633, 0.0139237642288208, 0.018723243847489357, -0.004117135424166918, -0.011438319459557533, -0.012097588740289211, 0.013857836835086346, -0.0046016983687877655, -0.004433584865182638, 0.005026927217841148, -0.008840799331665039, 0.0021228466648608446, -0.02203277312219143, 0.021413061767816544, -0.01764204166829586, 0.015123633667826653, 0.007008030544966459, 0.06745641678571701, -0.007317887153476477, -0.01464895997196436, 0.021281206980347633, -0.022705228999257088, 0.018433164805173874, 0.018459536135196686, 0.0036589435767382383, -0.03852768614888191, -0.018156271427869797, 0.008511164225637913, -6.767809827579185e-05, -0.006559727713465691, -0.026107057929039, -0.01250633504241705, -0.003869909793138504, 0.009790146723389626, 0.002928802976384759, -0.019474809989333153, 0.016719065606594086, 0.020714236423373222, 0.023588649928569794, 0.01744426041841507, 0.008801242336630821, -0.016666322946548462, 0.008478200994431973, 0.029957188293337822, -0.01925065740942955, -0.021241651847958565, -0.011880029924213886, 0.0078321173787117, -0.011992105282843113, -0.05152847245335579, -0.014437993988394737, 0.009994519874453545, -0.01273707952350378, -0.007225589361041784, -0.01019230019301176, 0.007522260770201683, 0.030115412548184395, 0.020542826503515244, 0.0413229875266552, -0.024748962372541428, -0.008062860928475857, 0.03320079296827316, 0.008458422496914864, -0.008636425249278545, -0.01714099757373333, -0.033464498817920685]\n"
     ]
    }
   ],
   "source": [
    "def create_embedding(prompt: str, model=\"text-embedding-ada-002\") -> list[float]:\n",
    "    return client.embeddings.create(model=model, input=prompt).data[0].embedding\n",
    "\n",
    "print(create_embedding(\"This is an embedding!\"))\n",
    "\n",
    "database: list[list[list[float]], str] = []\n",
    "\n",
    "# Create embedding-text key-value pairs and add them to the database\n",
    "corresponding_text_1 = \"This is an embedding!\"\n",
    "embedding_1 = create_embedding(corresponding_text_1)\n",
    "database.append([embedding_1, corresponding_text_1])\n",
    "\n",
    "corresponding_text_2 = \"Sverre is CTO of Cogito NTNU\"\n",
    "embedding_2 = create_embedding(corresponding_text_2)\n",
    "database.append([embedding_2, corresponding_text_2])"
   ]
  },
  {
   "cell_type": "code",
   "execution_count": 38,
   "metadata": {
    "id": "dfi_Eg6FUB7D"
   },
   "outputs": [
    {
     "data": {
      "text/plain": [
       "[(0.8882075752115184, 'Sverre is CTO of Cogito NTNU')]"
      ]
     },
     "execution_count": 38,
     "metadata": {},
     "output_type": "execute_result"
    }
   ],
   "source": [
    "import numpy as np\n",
    "\n",
    "def cosine_similarity(a: list[float], b: list[float]) -> float:\n",
    "    \"\"\" \n",
    "    Takes 2 vectors a, b and finds how similar they are using the cosine similarity \n",
    "\n",
    "    Args:\n",
    "    a (list[float]): A list of floats\n",
    "    b (list[float]): A list of floats\n",
    "\n",
    "    Returns:\n",
    "        The similarity of the two vectors a and b described as a float between 0 and 1\n",
    "    \n",
    "    \"\"\"\n",
    "    return np.dot(a, b) / (np.linalg.norm(a) * np.linalg.norm(b))\n",
    "\n",
    "def search_docs(query: str, database: list[list[list[float]], str], top_k: int=1):\n",
    "    \"\"\"\n",
    "    Searches the database for the most similar documents to the query\n",
    "\n",
    "    Args:\n",
    "        query (str): The query to search for\n",
    "        database (list[list[list[float]], str]): The database to search in\n",
    "        top_k (int): The number of documents to return\n",
    "    Returns:\n",
    "        A list of the top_k most similar documents to the query\n",
    "    \"\"\"\n",
    "    query_embedding = create_embedding(query)\n",
    "    results = []\n",
    "    for (doc_embedding, doc) in database:\n",
    "        similarity = cosine_similarity(query_embedding, doc_embedding)\n",
    "        results.append((similarity, doc))\n",
    "    return sorted(results, reverse=True)[:top_k]\n",
    "\n",
    "search_docs(\"Who is the CTO of Cogito?\", database)"
   ]
  },
  {
   "cell_type": "markdown",
   "metadata": {
    "id": "V4yWzB9s9caE"
   },
   "source": [
    "### **Task 4.1**\n",
    "*Create a new embedding with some text of your choice, and add it to the database. See if you can make the model find it.*\n",
    "\n",
    "<details>\n",
    "    <summary><strong>Hint:</strong></summary>\n",
    "      - Look at the previous two cells\n",
    "</details>"
   ]
  },
  {
   "cell_type": "code",
   "execution_count": 45,
   "metadata": {
    "id": "g-1zWV3u--Ih"
   },
   "outputs": [
    {
     "name": "stdin",
     "output_type": "stream",
     "text": [
      "What would you like to ask the model:  q\n"
     ]
    },
    {
     "name": "stdout",
     "output_type": "stream",
     "text": [
      "[SUCCESS] Shut down\n"
     ]
    }
   ],
   "source": [
    "# TODO: Create an embedding for some text and append it to the database\n",
    "\n",
    "while True:\n",
    "  user_input: str = input(\"What would you like to ask the model: \")\n",
    "\n",
    "  if user_input == \"q\":\n",
    "      print(\"[SUCCESS] Shut down\")\n",
    "      break\n",
    "\n",
    "  answer = search_docs(user_input, database, top_k=1)\n",
    "\n",
    "  print(f\"The AI gave the answer: {answer}\\n\")"
   ]
  },
  {
   "cell_type": "markdown",
   "metadata": {
    "id": "ExQMSdXYSyVe"
   },
   "source": [
    "#### Task 5.2\n",
    "*Work together with others and create something cool, try to utilize the different lesseons you have learned examples are:*\n",
    "* Create external API access some live data\n",
    "* Create more complex math operations to do calculus\n",
    "* Create bash scripts to create folders or organize a folder\n",
    "* Access a database for getting info\n",
    "\n"
   ]
  },
  {
   "cell_type": "code",
   "execution_count": null,
   "metadata": {
    "id": "6ClLpQnGTlcX"
   },
   "outputs": [],
   "source": [
    "# TODO: Copy relevant code from this notebook and create something"
   ]
  },
  {
   "cell_type": "markdown",
   "metadata": {
    "id": "Coyz5uZE1vYd"
   },
   "source": [
    "\n",
    "### Running local LLMs\n",
    "For those interested in experimenting with Large Language Models (LLMs) without incurring the costs associated with API calls to services like OpenAI's, or dealing with sensitive or proprietary data, running pre-trained models on your own hardware presents a viable alternative. The open-source community, particularly [Hugging Face's](https://huggingface.co/models) Transformers library, offers access to a wide range of models, including some developed by leading tech companies.\n",
    "\n",
    "One of the standout models available is Google's FLAN-T5-XL, part of the T5 (Text-to-Text Transfer Transformer) family, which has been fine-tuned for a broad set of tasks. This model combines the flexibility of T5's architecture with training on a mixture of supervised and unsupervised tasks, making it particularly adept at understanding and generating human-like text.\n",
    "\n",
    "To get started with using FLAN-T5-XL or any other model from the Transformers library, you will need to install the necessary packages and understand how to load and interact with the model. Below is a basic Python script that demonstrates how to set up and use FLAN-T5-XL for generating text based on input prompts:\n",
    "```python\n",
    "import sys\n",
    "from transformers import AutoTokenizer, AutoModelForSeq2SeqLM, GenerationConfig\n",
    "\n",
    "line = 'What is the value of being accepted into Cogito NTNU, Norway's largest technical AI student organisation, in the middle of an AI revolution?'\n",
    "\n",
    "model_name = 'google/flan-t5-xl'\n",
    "tokenizer = AutoTokenizer.from_pretrained(model_name)\n",
    "model = AutoModelForSeq2SeqLM.from_pretrained(model_name)\n",
    "\n",
    "config = GenerationConfig(max_new_tokens=200)\n",
    "for line in sys.stdin:\n",
    "    tokens = tokenizer(line, return_tensors=\"pt\")\n",
    "    outputs = model.generate(**tokens, generation_config=config)\n",
    "    print(tokenizer.batch_decode(outputs, skip_special_tokens=True))\n",
    "```\n",
    "\n"
   ]
  },
  {
   "cell_type": "markdown",
   "metadata": {
    "id": "l3nKpepS9Xmw"
   },
   "source": [
    "### Context windows\n",
    "\n",
    "The context window refers to the maximum amount of text (measured in tokens) the model can consider at one time when generating responses or performing tasks. This limit is intrinsic to the model's architecture and significantly influences how we design prompts and interpret model outputs.\n",
    "\n",
    "#### Significance of the Context Window\n",
    "The size of the context window determines how much information the model can \"see\" and use at any given moment. For example, GPT-3 has a context window of 2048 tokens. This means it can consider up to 2048 tokens of preceding text to generate its responses. The implications are twofold:\n",
    "\n",
    "* **Prompt Design:** When crafting prompts for an LLM, it's vital to ensure that the most relevant information is within the model's context window. Information beyond this limit won't influence the model's output, emphasizing the need for concise and focused prompt design.\n",
    "\n",
    "* **Sequential Tasks:** For tasks requiring more information than the context window allows, you may need to design a series of prompts that build on each other, ensuring each segment of the task remains within the model's view.\n",
    "\n",
    "While advancements have led to models supporting context windows surpassing 100,000 tokens (gpt-4 and other open source ones), challenges persist. Specifically, such models tend to focus on the beginning and end of the provided text, potentially underutilizing the middle portion. This is know as [lost in the middle](https://arxiv.org/pdf/2307.03172.pdf).\n",
    "\n",
    "#### New insights by a Operative System inspired model\n",
    "[MemGPT](https://memgpt.readme.io/docs/index) introduces a strategic approach to memory management, organized around two core concepts relevant to understanding context windows in LLMs:\n",
    "\n",
    "* **Memory Hierarchy:** It segments memory into two types: a \"main context\" analogous to RAM, which is smaller and faster, and an \"external context\" similar to disk storage, which is larger but slower. This structure necessitates the deliberate transfer of information between these contexts, using virtual memory.\n",
    "\n",
    "* **Process Management:** Similar to an operating system's role in managing tasks, MemGPT regulates the flow of information between the memory segments, the LLM, and users, ensuring efficient handling of processes."
   ]
  },
  {
   "cell_type": "markdown",
   "metadata": {
    "id": "Oc8BDSKT1y-C"
   },
   "source": [
    "### Fine-tuning Large Language Models\n",
    "Fine-tuning is a process that adjusts a pre-trained model to a specific task or dataset, enhancing its ability to perform on tasks it wasn't specifically trained for initially. This method leverages the general understanding that the model has developed during its initial training phase, applying it to a more focused domain or problem set. Fine-tuning can significantly improve the performance of LLMs on specialized tasks, making it a powerful tool for developers and researchers.\n",
    "\n",
    "#### Why Fine-tune?\n",
    "Customization: Tailors the model to understand and generate responses based on specific jargon, styles, or formats unique to your dataset.\n",
    "Improved Performance: Enhances the model's accuracy and efficiency on tasks that may differ from the data it was originally trained on.\n",
    "Cost-Effectiveness: Utilizes the foundational knowledge the model has gained, reducing the need for training from scratch on vast datasets.\n",
    "\n",
    "1. **How to Fine-tune an LLM:**\n",
    "Select a Pre-trained Model: Choose a model that closely aligns with your task in terms of language and domain. Models available on platforms like Hugging Face offer a good starting point.\n",
    "\n",
    "2. **Prepare Your Dataset:** Your dataset should be representative of the task at hand and formatted in a way that the model can understand. It typically involves splitting the data into training, validation, and test sets.\n",
    "\n",
    "3. **Customize Training Parameters:** Adjust parameters such as learning rate, batch size, and the number of epochs to balance between retaining learned knowledge and adapting to the new dataset.\n",
    "\n",
    "4. **Train the Model:** Use a suitable environment and framework, like PyTorch or TensorFlow, along with Hugging Face's Transformers library, to fine-tune the model on your dataset.\n",
    "\n",
    "5. **Evaluate and Iterate:** Test the model's performance on a separate validation set, and iteratively adjust your approach based on the results.\n",
    "\n",
    "An example of this using OpenAI can be found in the Cogito Project [MarketingAI](https://github.com/CogitoNTNU/MarketingAI/blob/main/src/fine_tuning/fine_tuning_job.py)"
   ]
  },
  {
   "cell_type": "markdown",
   "metadata": {
    "id": "ht-CtKNT7w8v"
   },
   "source": [
    "### Leveraging OpenAI Across Diverse Programming Environments\n",
    "While this course primarily focuses on Python to interact with OpenAI's models. Thera are other supported languages. Supported languages include, but are not limited to, TypeScript/JavaScript, Java, C#, Go, C++, and PHP, alongside others like Clojure, Kotlin, Ruby, Rust, and Scala. This wide-ranging support extends the potential of OpenAI's AI models to virtually any software development domain, from web development and mobile applications to enterprise solutions and beyond.\n",
    "\n",
    "[Read more at OpenAI Docs](https://platform.openai.com/docs/libraries/community-libraries)"
   ]
  }
 ],
 "metadata": {
  "colab": {
   "provenance": []
  },
  "kernelspec": {
   "display_name": "Python 3 (ipykernel)",
   "language": "python",
   "name": "python3"
  },
  "language_info": {
   "codemirror_mode": {
    "name": "ipython",
    "version": 3
   },
   "file_extension": ".py",
   "mimetype": "text/x-python",
   "name": "python",
   "nbconvert_exporter": "python",
   "pygments_lexer": "ipython3",
   "version": "3.9.19"
  }
 },
 "nbformat": 4,
 "nbformat_minor": 4
}
